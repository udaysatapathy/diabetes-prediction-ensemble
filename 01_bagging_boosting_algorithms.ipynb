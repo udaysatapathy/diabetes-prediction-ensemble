{
 "cells": [
  {
   "cell_type": "code",
   "execution_count": 1,
   "metadata": {},
   "outputs": [],
   "source": [
    "SEED = 123"
   ]
  },
  {
   "cell_type": "code",
   "execution_count": 2,
   "metadata": {},
   "outputs": [],
   "source": [
    "import pandas as pd\n",
    "import numpy as np\n",
    "np.random.seed(seed=SEED)"
   ]
  },
  {
   "cell_type": "code",
   "execution_count": 3,
   "metadata": {},
   "outputs": [],
   "source": [
    "df_diabetes_all = pd.read_csv(\"/Users/udasatap/Documents/AI ML DS/ensemble/diabetes_prediction/data/diabetes_dataset.csv\")"
   ]
  },
  {
   "cell_type": "code",
   "execution_count": 4,
   "metadata": {},
   "outputs": [
    {
     "output_type": "execute_result",
     "data": {
      "text/plain": "       Pregnancies     Glucose  BloodPressure  SkinThickness     Insulin  \\\ncount   768.000000  768.000000     768.000000     768.000000  768.000000   \nmean      3.845052  120.894531      69.105469      20.536458   79.799479   \nstd       3.369578   31.972618      19.355807      15.952218  115.244002   \nmin       0.000000    0.000000       0.000000       0.000000    0.000000   \n25%       1.000000   99.000000      62.000000       0.000000    0.000000   \n50%       3.000000  117.000000      72.000000      23.000000   30.500000   \n75%       6.000000  140.250000      80.000000      32.000000  127.250000   \nmax      17.000000  199.000000     122.000000      99.000000  846.000000   \n\n              BMI  DiabetesPedigreeFunction         Age     Outcome  \ncount  768.000000                768.000000  768.000000  768.000000  \nmean    31.992578                  0.471876   33.240885    0.348958  \nstd      7.884160                  0.331329   11.760232    0.476951  \nmin      0.000000                  0.078000   21.000000    0.000000  \n25%     27.300000                  0.243750   24.000000    0.000000  \n50%     32.000000                  0.372500   29.000000    0.000000  \n75%     36.600000                  0.626250   41.000000    1.000000  \nmax     67.100000                  2.420000   81.000000    1.000000  ",
      "text/html": "<div>\n<style scoped>\n    .dataframe tbody tr th:only-of-type {\n        vertical-align: middle;\n    }\n\n    .dataframe tbody tr th {\n        vertical-align: top;\n    }\n\n    .dataframe thead th {\n        text-align: right;\n    }\n</style>\n<table border=\"1\" class=\"dataframe\">\n  <thead>\n    <tr style=\"text-align: right;\">\n      <th></th>\n      <th>Pregnancies</th>\n      <th>Glucose</th>\n      <th>BloodPressure</th>\n      <th>SkinThickness</th>\n      <th>Insulin</th>\n      <th>BMI</th>\n      <th>DiabetesPedigreeFunction</th>\n      <th>Age</th>\n      <th>Outcome</th>\n    </tr>\n  </thead>\n  <tbody>\n    <tr>\n      <th>count</th>\n      <td>768.000000</td>\n      <td>768.000000</td>\n      <td>768.000000</td>\n      <td>768.000000</td>\n      <td>768.000000</td>\n      <td>768.000000</td>\n      <td>768.000000</td>\n      <td>768.000000</td>\n      <td>768.000000</td>\n    </tr>\n    <tr>\n      <th>mean</th>\n      <td>3.845052</td>\n      <td>120.894531</td>\n      <td>69.105469</td>\n      <td>20.536458</td>\n      <td>79.799479</td>\n      <td>31.992578</td>\n      <td>0.471876</td>\n      <td>33.240885</td>\n      <td>0.348958</td>\n    </tr>\n    <tr>\n      <th>std</th>\n      <td>3.369578</td>\n      <td>31.972618</td>\n      <td>19.355807</td>\n      <td>15.952218</td>\n      <td>115.244002</td>\n      <td>7.884160</td>\n      <td>0.331329</td>\n      <td>11.760232</td>\n      <td>0.476951</td>\n    </tr>\n    <tr>\n      <th>min</th>\n      <td>0.000000</td>\n      <td>0.000000</td>\n      <td>0.000000</td>\n      <td>0.000000</td>\n      <td>0.000000</td>\n      <td>0.000000</td>\n      <td>0.078000</td>\n      <td>21.000000</td>\n      <td>0.000000</td>\n    </tr>\n    <tr>\n      <th>25%</th>\n      <td>1.000000</td>\n      <td>99.000000</td>\n      <td>62.000000</td>\n      <td>0.000000</td>\n      <td>0.000000</td>\n      <td>27.300000</td>\n      <td>0.243750</td>\n      <td>24.000000</td>\n      <td>0.000000</td>\n    </tr>\n    <tr>\n      <th>50%</th>\n      <td>3.000000</td>\n      <td>117.000000</td>\n      <td>72.000000</td>\n      <td>23.000000</td>\n      <td>30.500000</td>\n      <td>32.000000</td>\n      <td>0.372500</td>\n      <td>29.000000</td>\n      <td>0.000000</td>\n    </tr>\n    <tr>\n      <th>75%</th>\n      <td>6.000000</td>\n      <td>140.250000</td>\n      <td>80.000000</td>\n      <td>32.000000</td>\n      <td>127.250000</td>\n      <td>36.600000</td>\n      <td>0.626250</td>\n      <td>41.000000</td>\n      <td>1.000000</td>\n    </tr>\n    <tr>\n      <th>max</th>\n      <td>17.000000</td>\n      <td>199.000000</td>\n      <td>122.000000</td>\n      <td>99.000000</td>\n      <td>846.000000</td>\n      <td>67.100000</td>\n      <td>2.420000</td>\n      <td>81.000000</td>\n      <td>1.000000</td>\n    </tr>\n  </tbody>\n</table>\n</div>"
     },
     "metadata": {},
     "execution_count": 4
    }
   ],
   "source": [
    "df_diabetes_all.describe()"
   ]
  },
  {
   "cell_type": "code",
   "execution_count": 5,
   "metadata": {},
   "outputs": [
    {
     "output_type": "execute_result",
     "data": {
      "text/plain": "   Pregnancies  Glucose  BloodPressure  SkinThickness  Insulin   BMI  \\\n0            6      148             72             35        0  33.6   \n1            1       85             66             29        0  26.6   \n2            8      183             64              0        0  23.3   \n3            1       89             66             23       94  28.1   \n4            0      137             40             35      168  43.1   \n\n   DiabetesPedigreeFunction  Age  Outcome  \n0                     0.627   50        1  \n1                     0.351   31        0  \n2                     0.672   32        1  \n3                     0.167   21        0  \n4                     2.288   33        1  ",
      "text/html": "<div>\n<style scoped>\n    .dataframe tbody tr th:only-of-type {\n        vertical-align: middle;\n    }\n\n    .dataframe tbody tr th {\n        vertical-align: top;\n    }\n\n    .dataframe thead th {\n        text-align: right;\n    }\n</style>\n<table border=\"1\" class=\"dataframe\">\n  <thead>\n    <tr style=\"text-align: right;\">\n      <th></th>\n      <th>Pregnancies</th>\n      <th>Glucose</th>\n      <th>BloodPressure</th>\n      <th>SkinThickness</th>\n      <th>Insulin</th>\n      <th>BMI</th>\n      <th>DiabetesPedigreeFunction</th>\n      <th>Age</th>\n      <th>Outcome</th>\n    </tr>\n  </thead>\n  <tbody>\n    <tr>\n      <th>0</th>\n      <td>6</td>\n      <td>148</td>\n      <td>72</td>\n      <td>35</td>\n      <td>0</td>\n      <td>33.6</td>\n      <td>0.627</td>\n      <td>50</td>\n      <td>1</td>\n    </tr>\n    <tr>\n      <th>1</th>\n      <td>1</td>\n      <td>85</td>\n      <td>66</td>\n      <td>29</td>\n      <td>0</td>\n      <td>26.6</td>\n      <td>0.351</td>\n      <td>31</td>\n      <td>0</td>\n    </tr>\n    <tr>\n      <th>2</th>\n      <td>8</td>\n      <td>183</td>\n      <td>64</td>\n      <td>0</td>\n      <td>0</td>\n      <td>23.3</td>\n      <td>0.672</td>\n      <td>32</td>\n      <td>1</td>\n    </tr>\n    <tr>\n      <th>3</th>\n      <td>1</td>\n      <td>89</td>\n      <td>66</td>\n      <td>23</td>\n      <td>94</td>\n      <td>28.1</td>\n      <td>0.167</td>\n      <td>21</td>\n      <td>0</td>\n    </tr>\n    <tr>\n      <th>4</th>\n      <td>0</td>\n      <td>137</td>\n      <td>40</td>\n      <td>35</td>\n      <td>168</td>\n      <td>43.1</td>\n      <td>2.288</td>\n      <td>33</td>\n      <td>1</td>\n    </tr>\n  </tbody>\n</table>\n</div>"
     },
     "metadata": {},
     "execution_count": 5
    }
   ],
   "source": [
    "df_diabetes_all.head()"
   ]
  },
  {
   "cell_type": "code",
   "execution_count": 6,
   "metadata": {},
   "outputs": [
    {
     "output_type": "execute_result",
     "data": {
      "text/plain": "768"
     },
     "metadata": {},
     "execution_count": 6
    }
   ],
   "source": [
    "rows_all, columns_all = df_diabetes_all.shape\n",
    "rows_all"
   ]
  },
  {
   "cell_type": "code",
   "execution_count": 7,
   "metadata": {},
   "outputs": [
    {
     "output_type": "execute_result",
     "data": {
      "text/plain": "    Pregnancies  Glucose  BloodPressure  SkinThickness  Insulin   BMI  \\\n1             1       85             66             29        0  26.6   \n3             1       89             66             23       94  28.1   \n5             5      116             74              0        0  25.6   \n7            10      115              0              0        0  35.3   \n10            4      110             92              0        0  37.6   \n\n    DiabetesPedigreeFunction  Age  Outcome  \n1                      0.351   31        0  \n3                      0.167   21        0  \n5                      0.201   30        0  \n7                      0.134   29        0  \n10                     0.191   30        0  ",
      "text/html": "<div>\n<style scoped>\n    .dataframe tbody tr th:only-of-type {\n        vertical-align: middle;\n    }\n\n    .dataframe tbody tr th {\n        vertical-align: top;\n    }\n\n    .dataframe thead th {\n        text-align: right;\n    }\n</style>\n<table border=\"1\" class=\"dataframe\">\n  <thead>\n    <tr style=\"text-align: right;\">\n      <th></th>\n      <th>Pregnancies</th>\n      <th>Glucose</th>\n      <th>BloodPressure</th>\n      <th>SkinThickness</th>\n      <th>Insulin</th>\n      <th>BMI</th>\n      <th>DiabetesPedigreeFunction</th>\n      <th>Age</th>\n      <th>Outcome</th>\n    </tr>\n  </thead>\n  <tbody>\n    <tr>\n      <th>1</th>\n      <td>1</td>\n      <td>85</td>\n      <td>66</td>\n      <td>29</td>\n      <td>0</td>\n      <td>26.6</td>\n      <td>0.351</td>\n      <td>31</td>\n      <td>0</td>\n    </tr>\n    <tr>\n      <th>3</th>\n      <td>1</td>\n      <td>89</td>\n      <td>66</td>\n      <td>23</td>\n      <td>94</td>\n      <td>28.1</td>\n      <td>0.167</td>\n      <td>21</td>\n      <td>0</td>\n    </tr>\n    <tr>\n      <th>5</th>\n      <td>5</td>\n      <td>116</td>\n      <td>74</td>\n      <td>0</td>\n      <td>0</td>\n      <td>25.6</td>\n      <td>0.201</td>\n      <td>30</td>\n      <td>0</td>\n    </tr>\n    <tr>\n      <th>7</th>\n      <td>10</td>\n      <td>115</td>\n      <td>0</td>\n      <td>0</td>\n      <td>0</td>\n      <td>35.3</td>\n      <td>0.134</td>\n      <td>29</td>\n      <td>0</td>\n    </tr>\n    <tr>\n      <th>10</th>\n      <td>4</td>\n      <td>110</td>\n      <td>92</td>\n      <td>0</td>\n      <td>0</td>\n      <td>37.6</td>\n      <td>0.191</td>\n      <td>30</td>\n      <td>0</td>\n    </tr>\n  </tbody>\n</table>\n</div>"
     },
     "metadata": {},
     "execution_count": 7
    }
   ],
   "source": [
    "df_no_diabetes = df_diabetes_all[df_diabetes_all['Outcome'] == 0]\n",
    "df_no_diabetes.head()"
   ]
  },
  {
   "cell_type": "code",
   "execution_count": 8,
   "metadata": {},
   "outputs": [
    {
     "output_type": "execute_result",
     "data": {
      "text/plain": "500"
     },
     "metadata": {},
     "execution_count": 8
    }
   ],
   "source": [
    "rows_no_diabetes, columns_no_diabetes = df_no_diabetes.shape\n",
    "rows_no_diabetes"
   ]
  },
  {
   "cell_type": "code",
   "execution_count": 9,
   "metadata": {},
   "outputs": [
    {
     "output_type": "execute_result",
     "data": {
      "text/plain": "   Pregnancies  Glucose  BloodPressure  SkinThickness  Insulin   BMI  \\\n0            6      148             72             35        0  33.6   \n2            8      183             64              0        0  23.3   \n4            0      137             40             35      168  43.1   \n6            3       78             50             32       88  31.0   \n8            2      197             70             45      543  30.5   \n\n   DiabetesPedigreeFunction  Age  Outcome  \n0                     0.627   50        1  \n2                     0.672   32        1  \n4                     2.288   33        1  \n6                     0.248   26        1  \n8                     0.158   53        1  ",
      "text/html": "<div>\n<style scoped>\n    .dataframe tbody tr th:only-of-type {\n        vertical-align: middle;\n    }\n\n    .dataframe tbody tr th {\n        vertical-align: top;\n    }\n\n    .dataframe thead th {\n        text-align: right;\n    }\n</style>\n<table border=\"1\" class=\"dataframe\">\n  <thead>\n    <tr style=\"text-align: right;\">\n      <th></th>\n      <th>Pregnancies</th>\n      <th>Glucose</th>\n      <th>BloodPressure</th>\n      <th>SkinThickness</th>\n      <th>Insulin</th>\n      <th>BMI</th>\n      <th>DiabetesPedigreeFunction</th>\n      <th>Age</th>\n      <th>Outcome</th>\n    </tr>\n  </thead>\n  <tbody>\n    <tr>\n      <th>0</th>\n      <td>6</td>\n      <td>148</td>\n      <td>72</td>\n      <td>35</td>\n      <td>0</td>\n      <td>33.6</td>\n      <td>0.627</td>\n      <td>50</td>\n      <td>1</td>\n    </tr>\n    <tr>\n      <th>2</th>\n      <td>8</td>\n      <td>183</td>\n      <td>64</td>\n      <td>0</td>\n      <td>0</td>\n      <td>23.3</td>\n      <td>0.672</td>\n      <td>32</td>\n      <td>1</td>\n    </tr>\n    <tr>\n      <th>4</th>\n      <td>0</td>\n      <td>137</td>\n      <td>40</td>\n      <td>35</td>\n      <td>168</td>\n      <td>43.1</td>\n      <td>2.288</td>\n      <td>33</td>\n      <td>1</td>\n    </tr>\n    <tr>\n      <th>6</th>\n      <td>3</td>\n      <td>78</td>\n      <td>50</td>\n      <td>32</td>\n      <td>88</td>\n      <td>31.0</td>\n      <td>0.248</td>\n      <td>26</td>\n      <td>1</td>\n    </tr>\n    <tr>\n      <th>8</th>\n      <td>2</td>\n      <td>197</td>\n      <td>70</td>\n      <td>45</td>\n      <td>543</td>\n      <td>30.5</td>\n      <td>0.158</td>\n      <td>53</td>\n      <td>1</td>\n    </tr>\n  </tbody>\n</table>\n</div>"
     },
     "metadata": {},
     "execution_count": 9
    }
   ],
   "source": [
    "df_yes_diabetes = df_diabetes_all[df_diabetes_all['Outcome'] == 1]\n",
    "df_yes_diabetes.head()"
   ]
  },
  {
   "cell_type": "code",
   "execution_count": 10,
   "metadata": {},
   "outputs": [
    {
     "output_type": "execute_result",
     "data": {
      "text/plain": "268"
     },
     "metadata": {},
     "execution_count": 10
    }
   ],
   "source": [
    "rows_yes_diabetes, columns_yes_diabetes = df_yes_diabetes.shape\n",
    "rows_yes_diabetes"
   ]
  },
  {
   "cell_type": "code",
   "execution_count": 11,
   "metadata": {},
   "outputs": [
    {
     "output_type": "stream",
     "name": "stdout",
     "text": "[ 85 309  59 221 131   5 114 423 288 101  36 276 184  11  82 170 419 159\n 415 107 200 284 488  48 203 335 248  34 471 175 388 438  72 258 493 196\n  33 308 138   9 469  93 478 285 223 189  24 363 179 125  13 434 472 263\n 326 211  55  75 280 134 383 439  15 150 132 171 369 378 102  26 182 367\n 316 156  49 429 368 400 160 436 292 337 327 385  66 417 185 291 352 275\n  42 318  41 142 351 475 460 341 212 120  95  54 456 447 345 370 298 336\n 236 459 209   0 401 227 151 381 192 190 266  20 164 329 467 364 237 181\n 204 410 404 343 497 282 426  31 277  21 477 295 273 299  79 188 246 121\n 402  91 148 172 465 403  52 453 487 162 155 252 104 458 328 413 405 249\n 199 449 356   6 147 454 375 202 293 389 178 313 433 320 242 216 286 165\n 234 274 437  38 264 191 231  12 428 495  30 144 391 201 157 306 241 462\n 479 346 229  81 105 372 226  37  19  29  78 448 408 442 463  71  94 491\n 484  35 128  74 217  53  22 173 145 427 406 166 347 163 267  90 395 210\n 441 494 416 272 480 396   4 333 218 239 235 461 260 466 127 422 177 143\n 483 152 440 240  80 117  23 386 261 332  61 108 310  44  89 232]\n"
    }
   ],
   "source": [
    "# select random indexes from no_diabetes and match the yes_diabetes size\n",
    "indexes = np.random.choice(rows_no_diabetes - 1, size=rows_yes_diabetes, replace=False)\n",
    "print(indexes)\n",
    "df_no_diabetes_sample = df_no_diabetes.iloc[indexes, :] # match the yes_diabetes size"
   ]
  },
  {
   "cell_type": "code",
   "execution_count": 12,
   "metadata": {},
   "outputs": [
    {
     "output_type": "execute_result",
     "data": {
      "text/plain": "(268, 9)"
     },
     "metadata": {},
     "execution_count": 12
    }
   ],
   "source": [
    "df_no_diabetes_sample.shape"
   ]
  },
  {
   "cell_type": "code",
   "execution_count": 13,
   "metadata": {},
   "outputs": [
    {
     "output_type": "execute_result",
     "data": {
      "text/plain": "(536, 9)"
     },
     "metadata": {},
     "execution_count": 13
    }
   ],
   "source": [
    "df_diabetes_all_sample = pd.concat([df_yes_diabetes, df_no_diabetes_sample])\n",
    "df_diabetes_all_sample.shape"
   ]
  },
  {
   "cell_type": "code",
   "execution_count": 14,
   "metadata": {},
   "outputs": [],
   "source": [
    "# divide into X and y\n",
    "X = df_diabetes_all_sample.iloc[:, :-1].to_numpy()"
   ]
  },
  {
   "cell_type": "code",
   "execution_count": 15,
   "metadata": {},
   "outputs": [],
   "source": [
    "# divide into X and y\n",
    "y = df_diabetes_all_sample.iloc[:, -1].to_numpy()"
   ]
  },
  {
   "cell_type": "code",
   "execution_count": 16,
   "metadata": {},
   "outputs": [],
   "source": [
    "from sklearn.tree import DecisionTreeClassifier\n",
    "from sklearn.ensemble import BaggingClassifier, RandomForestClassifier, ExtraTreesClassifier\n",
    "from sklearn.model_selection import cross_val_score\n",
    "from sklearn.model_selection import train_test_split"
   ]
  },
  {
   "cell_type": "code",
   "execution_count": 17,
   "metadata": {},
   "outputs": [],
   "source": [
    "X_train, X_test, y_train, y_test = train_test_split(X, y, random_state=SEED)"
   ]
  },
  {
   "cell_type": "code",
   "execution_count": 18,
   "metadata": {},
   "outputs": [],
   "source": [
    "#############################\n",
    "# BAGGING ALGORITHMS\n",
    "#############################"
   ]
  },
  {
   "cell_type": "code",
   "execution_count": 19,
   "metadata": {},
   "outputs": [],
   "source": [
    "# plain vanilla decision tree\n",
    "treeClassifier = DecisionTreeClassifier(random_state=SEED)\n",
    "\n",
    "# bag of decision trees. N = 100\n",
    "baggingClassifier = BaggingClassifier(base_estimator=treeClassifier, n_estimators=100, random_state=SEED)\n",
    "\n",
    "# random forest\n",
    "randomForestClassifier = RandomForestClassifier(n_estimators=100, max_features='log2', random_state=SEED)\n",
    "\n",
    "# extra trees\n",
    "extraTreesClassifier = ExtraTreesClassifier(n_estimators=100, max_features='log2', random_state=SEED)"
   ]
  },
  {
   "cell_type": "code",
   "execution_count": 20,
   "metadata": {},
   "outputs": [
    {
     "output_type": "execute_result",
     "data": {
      "text/plain": "DecisionTreeClassifier(ccp_alpha=0.0, class_weight=None, criterion='gini',\n                       max_depth=None, max_features=None, max_leaf_nodes=None,\n                       min_impurity_decrease=0.0, min_impurity_split=None,\n                       min_samples_leaf=1, min_samples_split=2,\n                       min_weight_fraction_leaf=0.0, presort='deprecated',\n                       random_state=123, splitter='best')"
     },
     "metadata": {},
     "execution_count": 20
    }
   ],
   "source": [
    "# train plain vanilla decision tree\n",
    "treeClassifier.fit(X_train, y_train)"
   ]
  },
  {
   "cell_type": "code",
   "execution_count": 21,
   "metadata": {},
   "outputs": [
    {
     "output_type": "execute_result",
     "data": {
      "text/plain": "BaggingClassifier(base_estimator=DecisionTreeClassifier(ccp_alpha=0.0,\n                                                        class_weight=None,\n                                                        criterion='gini',\n                                                        max_depth=None,\n                                                        max_features=None,\n                                                        max_leaf_nodes=None,\n                                                        min_impurity_decrease=0.0,\n                                                        min_impurity_split=None,\n                                                        min_samples_leaf=1,\n                                                        min_samples_split=2,\n                                                        min_weight_fraction_leaf=0.0,\n                                                        presort='deprecated',\n                                                        random_state=123,\n                                                        splitter='best'),\n                  bootstrap=True, bootstrap_features=False, max_features=1.0,\n                  max_samples=1.0, n_estimators=100, n_jobs=None,\n                  oob_score=False, random_state=123, verbose=0,\n                  warm_start=False)"
     },
     "metadata": {},
     "execution_count": 21
    }
   ],
   "source": [
    "# train bagged decision tree\n",
    "baggingClassifier.fit(X_train, y_train)"
   ]
  },
  {
   "cell_type": "code",
   "execution_count": 22,
   "metadata": {},
   "outputs": [
    {
     "output_type": "execute_result",
     "data": {
      "text/plain": "RandomForestClassifier(bootstrap=True, ccp_alpha=0.0, class_weight=None,\n                       criterion='gini', max_depth=None, max_features='log2',\n                       max_leaf_nodes=None, max_samples=None,\n                       min_impurity_decrease=0.0, min_impurity_split=None,\n                       min_samples_leaf=1, min_samples_split=2,\n                       min_weight_fraction_leaf=0.0, n_estimators=100,\n                       n_jobs=None, oob_score=False, random_state=123,\n                       verbose=0, warm_start=False)"
     },
     "metadata": {},
     "execution_count": 22
    }
   ],
   "source": [
    "#train\n",
    "randomForestClassifier.fit(X_train, y_train)"
   ]
  },
  {
   "cell_type": "code",
   "execution_count": 23,
   "metadata": {},
   "outputs": [
    {
     "output_type": "execute_result",
     "data": {
      "text/plain": "ExtraTreesClassifier(bootstrap=False, ccp_alpha=0.0, class_weight=None,\n                     criterion='gini', max_depth=None, max_features='log2',\n                     max_leaf_nodes=None, max_samples=None,\n                     min_impurity_decrease=0.0, min_impurity_split=None,\n                     min_samples_leaf=1, min_samples_split=2,\n                     min_weight_fraction_leaf=0.0, n_estimators=100,\n                     n_jobs=None, oob_score=False, random_state=123, verbose=0,\n                     warm_start=False)"
     },
     "metadata": {},
     "execution_count": 23
    }
   ],
   "source": [
    "extraTreesClassifier.fit(X_train, y_train)"
   ]
  },
  {
   "cell_type": "code",
   "execution_count": 24,
   "metadata": {},
   "outputs": [
    {
     "output_type": "execute_result",
     "data": {
      "text/plain": "0.6021978021978022"
     },
     "metadata": {},
     "execution_count": 24
    }
   ],
   "source": [
    "cv_tree = cross_val_score(treeClassifier, X_test, y_test, cv=10)\n",
    "cv_tree.mean()"
   ]
  },
  {
   "cell_type": "code",
   "execution_count": 25,
   "metadata": {},
   "outputs": [
    {
     "output_type": "execute_result",
     "data": {
      "text/plain": "0.6637362637362638"
     },
     "metadata": {},
     "execution_count": 25
    }
   ],
   "source": [
    "cv_bag = cross_val_score(baggingClassifier, X_test, y_test, cv=10)\n",
    "cv_bag.mean()"
   ]
  },
  {
   "cell_type": "code",
   "execution_count": 26,
   "metadata": {},
   "outputs": [
    {
     "output_type": "execute_result",
     "data": {
      "text/plain": "0.6796703296703296"
     },
     "metadata": {},
     "execution_count": 26
    }
   ],
   "source": [
    "cv_rf = cross_val_score(randomForestClassifier, X_test, y_test, cv=10)\n",
    "cv_rf.mean()"
   ]
  },
  {
   "cell_type": "code",
   "execution_count": 27,
   "metadata": {},
   "outputs": [
    {
     "output_type": "execute_result",
     "data": {
      "text/plain": "0.701098901098901"
     },
     "metadata": {},
     "execution_count": 27
    }
   ],
   "source": [
    "cv_xt = cross_val_score(extraTreesClassifier, X_test, y_test, cv=10)\n",
    "cv_xt.mean()"
   ]
  },
  {
   "cell_type": "code",
   "execution_count": 28,
   "metadata": {},
   "outputs": [],
   "source": [
    "#############################\n",
    "# BOOSTING ALGORITHMS\n",
    "#############################"
   ]
  },
  {
   "cell_type": "code",
   "execution_count": 29,
   "metadata": {},
   "outputs": [
    {
     "output_type": "execute_result",
     "data": {
      "text/plain": "0.6027472527472527"
     },
     "metadata": {},
     "execution_count": 29
    }
   ],
   "source": [
    "from sklearn.ensemble import AdaBoostClassifier\n",
    "# adaboost\n",
    "adaBoostClassifier = AdaBoostClassifier(n_estimators=100, random_state=SEED)\n",
    "adaBoostClassifier.fit(X_train, y_train)\n",
    "cv_adaboost = cross_val_score(adaBoostClassifier, X_test, y_test, cv=10)\n",
    "cv_adaboost.mean()"
   ]
  },
  {
   "cell_type": "code",
   "execution_count": 96,
   "metadata": {},
   "outputs": [
    {
     "output_type": "execute_result",
     "data": {
      "text/plain": "0.6027472527472527"
     },
     "metadata": {},
     "execution_count": 96
    }
   ],
   "source": []
  },
  {
   "cell_type": "code",
   "execution_count": 30,
   "metadata": {},
   "outputs": [
    {
     "output_type": "execute_result",
     "data": {
      "text/plain": "0.6565934065934065"
     },
     "metadata": {},
     "execution_count": 30
    }
   ],
   "source": [
    "# gradient boosting\n",
    "from sklearn.ensemble import GradientBoostingClassifier\n",
    "gradientBoostingClassifier = GradientBoostingClassifier(n_estimators=100, random_state=SEED)\n",
    "gradientBoostingClassifier.fit(X_train, y_train)\n",
    "cv_gb = cross_val_score(gradientBoostingClassifier, X_test, y_test, cv=10)\n",
    "cv_gb.mean()"
   ]
  },
  {
   "cell_type": "code",
   "execution_count": 31,
   "metadata": {},
   "outputs": [
    {
     "output_type": "execute_result",
     "data": {
      "text/plain": "0.6791208791208792"
     },
     "metadata": {},
     "execution_count": 31
    }
   ],
   "source": [
    "######## Voting\n",
    "from sklearn.ensemble import VotingClassifier\n",
    "\n",
    "# plain vanilla decision tree\n",
    "treeClassifier1 = DecisionTreeClassifier(random_state=SEED)\n",
    "\n",
    "# bag of decision trees. N = 100\n",
    "baggingClassifier1 = BaggingClassifier(base_estimator=treeClassifier, n_estimators=100, random_state=SEED)\n",
    "\n",
    "# random forest\n",
    "randomForestClassifier1 = RandomForestClassifier(n_estimators=100, max_features='log2', random_state=SEED)\n",
    "\n",
    "# extra trees\n",
    "extraTreesClassifier1 = ExtraTreesClassifier(n_estimators=100, max_features='log2', random_state=SEED)\n",
    "\n",
    "votingClassifier = VotingClassifier([('baggingClassifier', baggingClassifier1), \\\n",
    "                                    ('randomForestClassifier', randomForestClassifier1), \\\n",
    "                                    ('extraTreesClassifier', extraTreesClassifier1)])\n",
    "\n",
    "votingClassifier.fit(X_train, y_train)\n",
    "cv_vc = cross_val_score(votingClassifier, X_test, y_test, cv=10)\n",
    "cv_vc.mean()"
   ]
  },
  {
   "cell_type": "code",
   "execution_count": 34,
   "metadata": {},
   "outputs": [
    {
     "output_type": "execute_result",
     "data": {
      "text/plain": "0.6791208791208792"
     },
     "metadata": {},
     "execution_count": 34
    }
   ],
   "source": [
    "####### Stacking\n",
    "from mlxtend.classifier import StackingCVClassifier\n",
    "from sklearn.linear_model import LogisticRegression\n",
    "\n",
    "# plain vanilla decision tree\n",
    "treeClassifier2 = DecisionTreeClassifier(random_state=SEED)\n",
    "\n",
    "# bag of decision trees. N = 100\n",
    "baggingClassifier2 = BaggingClassifier(base_estimator=treeClassifier, n_estimators=100, random_state=SEED)\n",
    "\n",
    "# random forest\n",
    "randomForestClassifier2 = RandomForestClassifier(n_estimators=100, max_features='log2', random_state=SEED)\n",
    "\n",
    "# extra trees\n",
    "extraTreesClassifier2 = ExtraTreesClassifier(n_estimators=100, max_features='log2', random_state=SEED)\n",
    "\n",
    "stackingCVClassifier2 = StackingCVClassifier(classifiers=[baggingClassifier2, \\\n",
    "                                                            randomForestClassifier2, \\\n",
    "                                                            extraTreesClassifier2],\\\n",
    "                                            random_state = SEED, \\\n",
    "                                            meta_classifier = LogisticRegression(), \\\n",
    "                                            use_probas = True)\n",
    "stackingCVClassifier2.fit(X_train, y_train)\n",
    "cv_stack = cross_val_score(stackingCVClassifier2, X_test, y_test, cv=10)\n",
    "cv_stack.mean()"
   ]
  },
  {
   "cell_type": "code",
   "execution_count": null,
   "metadata": {},
   "outputs": [],
   "source": []
  }
 ],
 "metadata": {
  "language_info": {
   "codemirror_mode": {
    "name": "ipython",
    "version": 3
   },
   "file_extension": ".py",
   "mimetype": "text/x-python",
   "name": "python",
   "nbconvert_exporter": "python",
   "pygments_lexer": "ipython3",
   "version": "3.7.6-final"
  },
  "orig_nbformat": 2,
  "kernelspec": {
   "name": "python37664bittxlearningconda896d4dddbebd49cead35a9162d67d042",
   "display_name": "Python 3.7.6 64-bit ('txlearning': conda)"
  }
 },
 "nbformat": 4,
 "nbformat_minor": 2
}